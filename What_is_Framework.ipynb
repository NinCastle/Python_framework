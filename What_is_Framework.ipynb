{
 "cells": [
  {
   "cell_type": "markdown",
   "metadata": {},
   "source": [
    "[프레임워크란?](http://jokergt.tistory.com/89)  \n",
    "아래 내용은 상기 링크를 정리한것."
   ]
  },
  {
   "cell_type": "markdown",
   "metadata": {},
   "source": [
    "## 프레임워크란?"
   ]
  },
  {
   "cell_type": "markdown",
   "metadata": {},
   "source": [
    "\"소프트웨어의 구체적인 부분에 해당하는 설계와 구현을 재사용이 가능하게끔 일련의 협업화된 형태로 클래스들을 제공하는 것.\" - 랄프 존슨(Ralph Johnson)"
   ]
  },
  {
   "cell_type": "markdown",
   "metadata": {},
   "source": [
    "### 프레임워크 VS 라이브러리"
   ]
  },
  {
   "cell_type": "markdown",
   "metadata": {},
   "source": [
    "라이브러리:  \n",
    "자주 쓰일만한 기능들을 모아 놓은 유틸(클래스)들의 모음집이다.  \n",
    "  \n",
    "프레임워크:  \n",
    "라이브러리 + 뼈대가 되는 클래스들과 그 클래스들의 관계로 이루어진 일종의 **'설계의 기본 틀'**이다.  \n",
    "\n",
    "    * 설계의 틀이란?\n",
    "        + 확장가능한 기반코드, 재사용 가능한 형태의 협업화된 클래스들"
   ]
  },
  {
   "cell_type": "markdown",
   "metadata": {},
   "source": [
    "프레임워크는 프레임워크 제작자 의 설계 철학과 확장가능한 의도된 제약 사항을 만들어 놓고 있다.  \n",
    "또 그로인하여 프레임 워크의 장점인 '신뢰성'과 '비용 절감'이 증가된다.  \n",
    "위에 서 설명한 제약사항이란 보통 디자인 패턴을 구현한 코드 형태로 표현되는데,  \n",
    "이중 가장 흔한 형태가 MVC패턴이다.\n",
    "  \n",
    "디자인 패턴에 대해서는 차후에 설명하도록 한다.  "
   ]
  },
  {
   "cell_type": "markdown",
   "metadata": {},
   "source": [
    "프레임워크는 제작자가 사용자들로 하여금 쉽고 빠르게 기능을 확장하고,   \n",
    "유지보수 할 수 있게 해주는 구조를 제공하는 가이드라인을 제시하는것이다.  \n",
    "  \n",
    "정리해서 말하자면,  \n",
    "프레임 워크란\n",
    "1. 설계의 기반이 되는 부분이 확장 가능하게끔 하는 기본적인 코드를 가지고 있다.\n",
    "2. 코드를 스스로 확장하는데 필요한 라이브러리를 제공한다.  \n",
    "  \n",
    "  "
   ]
  }
 ],
 "metadata": {
  "kernelspec": {
   "display_name": "Python 3",
   "language": "python",
   "name": "python3"
  },
  "language_info": {
   "codemirror_mode": {
    "name": "ipython",
    "version": 3
   },
   "file_extension": ".py",
   "mimetype": "text/x-python",
   "name": "python",
   "nbconvert_exporter": "python",
   "pygments_lexer": "ipython3",
   "version": "3.6.4"
  }
 },
 "nbformat": 4,
 "nbformat_minor": 2
}
